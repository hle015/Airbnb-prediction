{
 "cells": [
  {
   "cell_type": "code",
   "execution_count": 85,
   "id": "cdee363d",
   "metadata": {},
   "outputs": [],
   "source": [
    "import numpy as np\n",
    "import pandas as pd\n",
    "import seaborn as sns\n",
    "import matplotlib.pyplot as plt"
   ]
  },
  {
   "cell_type": "code",
   "execution_count": 150,
   "id": "c1095fef",
   "metadata": {},
   "outputs": [],
   "source": [
    "contacts=pd.read_csv(\"C:/Users/huyen/My Drive/UCR_Drive/Airbnb Project/datasets/contacts.tsv\", sep=\"\\t\")\n",
    "\n",
    "searches=pd.read_csv(\"C:/Users/huyen/My Drive/UCR_Drive/Airbnb Project/datasets/searches.tsv\", sep=\"\\t\")"
   ]
  },
  {
   "cell_type": "code",
   "execution_count": 87,
   "id": "b9c25dee",
   "metadata": {},
   "outputs": [
    {
     "data": {
      "text/html": [
       "<div>\n",
       "<style scoped>\n",
       "    .dataframe tbody tr th:only-of-type {\n",
       "        vertical-align: middle;\n",
       "    }\n",
       "\n",
       "    .dataframe tbody tr th {\n",
       "        vertical-align: top;\n",
       "    }\n",
       "\n",
       "    .dataframe thead th {\n",
       "        text-align: right;\n",
       "    }\n",
       "</style>\n",
       "<table border=\"1\" class=\"dataframe\">\n",
       "  <thead>\n",
       "    <tr style=\"text-align: right;\">\n",
       "      <th></th>\n",
       "      <th>id_guest</th>\n",
       "      <th>id_host</th>\n",
       "      <th>id_listing</th>\n",
       "      <th>ts_contact_at</th>\n",
       "      <th>ts_reply_at</th>\n",
       "      <th>ts_accepted_at</th>\n",
       "      <th>ts_booking_at</th>\n",
       "      <th>ds_checkin</th>\n",
       "      <th>ds_checkout</th>\n",
       "      <th>n_guests</th>\n",
       "      <th>n_messages</th>\n",
       "    </tr>\n",
       "  </thead>\n",
       "  <tbody>\n",
       "    <tr>\n",
       "      <th>0</th>\n",
       "      <td>000dfad9-459b-4f0b-8310-3d6ab34e4f57</td>\n",
       "      <td>13bb24b8-d432-43a2-9755-5ea11b43bb69</td>\n",
       "      <td>21d2b1a2-fdc3-4b4c-a1f0-0eaf0cc02370</td>\n",
       "      <td>2014-10-04 16:26:28.0</td>\n",
       "      <td>2014-10-04 16:26:28.0</td>\n",
       "      <td>2014-10-04 16:26:28.0</td>\n",
       "      <td>2014-10-04 16:26:28.0</td>\n",
       "      <td>2014-10-13</td>\n",
       "      <td>2014-10-15</td>\n",
       "      <td>2</td>\n",
       "      <td>13</td>\n",
       "    </tr>\n",
       "    <tr>\n",
       "      <th>1</th>\n",
       "      <td>00197051-c6cb-4c3a-99e9-86615b819874</td>\n",
       "      <td>46aa3897-9c00-4d76-ac66-a307593d0675</td>\n",
       "      <td>fb5ed09a-9848-4f2c-b2ef-34deb62164fb</td>\n",
       "      <td>2014-11-04 09:10:03.0</td>\n",
       "      <td>2014-11-04 09:45:50.0</td>\n",
       "      <td>2014-11-04 09:45:50.0</td>\n",
       "      <td>2014-11-04 12:20:46.0</td>\n",
       "      <td>2014-11-27</td>\n",
       "      <td>2014-11-30</td>\n",
       "      <td>1</td>\n",
       "      <td>10</td>\n",
       "    </tr>\n",
       "    <tr>\n",
       "      <th>2</th>\n",
       "      <td>0027538e-aa9e-4a02-8979-b8397e5d4cba</td>\n",
       "      <td>6bbb88ca-db66-48c5-9c4b-862f7706284a</td>\n",
       "      <td>d3871da6-8012-4dc4-b508-c91f2c10c297</td>\n",
       "      <td>2014-10-10 12:02:50.0</td>\n",
       "      <td>2014-10-10 15:07:01.0</td>\n",
       "      <td>NaN</td>\n",
       "      <td>NaN</td>\n",
       "      <td>2014-10-17</td>\n",
       "      <td>2014-10-19</td>\n",
       "      <td>2</td>\n",
       "      <td>3</td>\n",
       "    </tr>\n",
       "    <tr>\n",
       "      <th>3</th>\n",
       "      <td>0027538e-aa9e-4a02-8979-b8397e5d4cba</td>\n",
       "      <td>8772bc85-a9b7-4d85-a52d-41f3620c2912</td>\n",
       "      <td>0d9b5583-8053-4b67-adfe-8c29eb12efed</td>\n",
       "      <td>2014-10-10 15:23:53.0</td>\n",
       "      <td>NaN</td>\n",
       "      <td>NaN</td>\n",
       "      <td>NaN</td>\n",
       "      <td>2014-10-17</td>\n",
       "      <td>2014-10-19</td>\n",
       "      <td>2</td>\n",
       "      <td>2</td>\n",
       "    </tr>\n",
       "    <tr>\n",
       "      <th>4</th>\n",
       "      <td>0027538e-aa9e-4a02-8979-b8397e5d4cba</td>\n",
       "      <td>ac162061-55e2-4072-ac91-2e080f9581f2</td>\n",
       "      <td>ec68e0af-b0f2-42c7-b6f8-d41061c083ff</td>\n",
       "      <td>2014-10-10 15:22:26.0</td>\n",
       "      <td>2014-10-10 15:24:26.0</td>\n",
       "      <td>2014-10-10 15:24:26.0</td>\n",
       "      <td>2014-10-10 15:52:42.0</td>\n",
       "      <td>2014-10-17</td>\n",
       "      <td>2014-10-19</td>\n",
       "      <td>2</td>\n",
       "      <td>14</td>\n",
       "    </tr>\n",
       "    <tr>\n",
       "      <th>...</th>\n",
       "      <td>...</td>\n",
       "      <td>...</td>\n",
       "      <td>...</td>\n",
       "      <td>...</td>\n",
       "      <td>...</td>\n",
       "      <td>...</td>\n",
       "      <td>...</td>\n",
       "      <td>...</td>\n",
       "      <td>...</td>\n",
       "      <td>...</td>\n",
       "      <td>...</td>\n",
       "    </tr>\n",
       "    <tr>\n",
       "      <th>7818</th>\n",
       "      <td>ffe366f0-6ab6-4e94-818a-c69c125fed3c</td>\n",
       "      <td>8be6bf94-aeb3-4a51-8ac4-db60baedfea1</td>\n",
       "      <td>7732bad8-e800-49f3-8751-e7604e3fb5a3</td>\n",
       "      <td>2014-10-07 21:43:00.0</td>\n",
       "      <td>2014-10-08 08:19:33.0</td>\n",
       "      <td>2014-10-08 08:19:33.0</td>\n",
       "      <td>NaN</td>\n",
       "      <td>2014-10-17</td>\n",
       "      <td>2014-10-20</td>\n",
       "      <td>2</td>\n",
       "      <td>5</td>\n",
       "    </tr>\n",
       "    <tr>\n",
       "      <th>7819</th>\n",
       "      <td>ffe366f0-6ab6-4e94-818a-c69c125fed3c</td>\n",
       "      <td>b92639c1-a5a8-48f6-8484-4fe6f62d1c6d</td>\n",
       "      <td>cc3a6bd4-d64f-4cbe-b947-c36c3851b487</td>\n",
       "      <td>2014-10-13 15:38:28.0</td>\n",
       "      <td>2014-10-13 15:44:56.0</td>\n",
       "      <td>NaN</td>\n",
       "      <td>NaN</td>\n",
       "      <td>2014-10-17</td>\n",
       "      <td>2014-10-20</td>\n",
       "      <td>2</td>\n",
       "      <td>5</td>\n",
       "    </tr>\n",
       "    <tr>\n",
       "      <th>7820</th>\n",
       "      <td>ffe366f0-6ab6-4e94-818a-c69c125fed3c</td>\n",
       "      <td>d0b6d89a-4379-43f2-9560-4943df5b8f4f</td>\n",
       "      <td>6e5b4380-66d2-4f2a-8f89-d2794598997d</td>\n",
       "      <td>2014-10-13 15:40:49.0</td>\n",
       "      <td>2014-10-13 15:42:46.0</td>\n",
       "      <td>NaN</td>\n",
       "      <td>NaN</td>\n",
       "      <td>2014-10-17</td>\n",
       "      <td>2014-10-20</td>\n",
       "      <td>2</td>\n",
       "      <td>3</td>\n",
       "    </tr>\n",
       "    <tr>\n",
       "      <th>7821</th>\n",
       "      <td>ffe366f0-6ab6-4e94-818a-c69c125fed3c</td>\n",
       "      <td>f86bc9ab-e199-4254-8609-fd67d6aaed42</td>\n",
       "      <td>28caf371-6d1d-4e06-aaf1-e660966ac7a1</td>\n",
       "      <td>2014-10-07 21:30:31.0</td>\n",
       "      <td>2014-10-08 19:04:43.0</td>\n",
       "      <td>NaN</td>\n",
       "      <td>NaN</td>\n",
       "      <td>2014-10-17</td>\n",
       "      <td>2014-10-20</td>\n",
       "      <td>2</td>\n",
       "      <td>2</td>\n",
       "    </tr>\n",
       "    <tr>\n",
       "      <th>7822</th>\n",
       "      <td>fffea166-9432-43a7-8b1b-09d6f30c1c07</td>\n",
       "      <td>6d656267-642e-4972-bdec-a35d82b84ebb</td>\n",
       "      <td>90dddef6-23ef-4df3-b454-8fd3d0e8cade</td>\n",
       "      <td>2014-10-08 00:05:05.0</td>\n",
       "      <td>2014-10-12 20:58:12.0</td>\n",
       "      <td>NaN</td>\n",
       "      <td>NaN</td>\n",
       "      <td>2014-11-11</td>\n",
       "      <td>2014-11-18</td>\n",
       "      <td>2</td>\n",
       "      <td>2</td>\n",
       "    </tr>\n",
       "  </tbody>\n",
       "</table>\n",
       "<p>7823 rows × 11 columns</p>\n",
       "</div>"
      ],
      "text/plain": [
       "                                  id_guest  \\\n",
       "0     000dfad9-459b-4f0b-8310-3d6ab34e4f57   \n",
       "1     00197051-c6cb-4c3a-99e9-86615b819874   \n",
       "2     0027538e-aa9e-4a02-8979-b8397e5d4cba   \n",
       "3     0027538e-aa9e-4a02-8979-b8397e5d4cba   \n",
       "4     0027538e-aa9e-4a02-8979-b8397e5d4cba   \n",
       "...                                    ...   \n",
       "7818  ffe366f0-6ab6-4e94-818a-c69c125fed3c   \n",
       "7819  ffe366f0-6ab6-4e94-818a-c69c125fed3c   \n",
       "7820  ffe366f0-6ab6-4e94-818a-c69c125fed3c   \n",
       "7821  ffe366f0-6ab6-4e94-818a-c69c125fed3c   \n",
       "7822  fffea166-9432-43a7-8b1b-09d6f30c1c07   \n",
       "\n",
       "                                   id_host  \\\n",
       "0     13bb24b8-d432-43a2-9755-5ea11b43bb69   \n",
       "1     46aa3897-9c00-4d76-ac66-a307593d0675   \n",
       "2     6bbb88ca-db66-48c5-9c4b-862f7706284a   \n",
       "3     8772bc85-a9b7-4d85-a52d-41f3620c2912   \n",
       "4     ac162061-55e2-4072-ac91-2e080f9581f2   \n",
       "...                                    ...   \n",
       "7818  8be6bf94-aeb3-4a51-8ac4-db60baedfea1   \n",
       "7819  b92639c1-a5a8-48f6-8484-4fe6f62d1c6d   \n",
       "7820  d0b6d89a-4379-43f2-9560-4943df5b8f4f   \n",
       "7821  f86bc9ab-e199-4254-8609-fd67d6aaed42   \n",
       "7822  6d656267-642e-4972-bdec-a35d82b84ebb   \n",
       "\n",
       "                                id_listing          ts_contact_at  \\\n",
       "0     21d2b1a2-fdc3-4b4c-a1f0-0eaf0cc02370  2014-10-04 16:26:28.0   \n",
       "1     fb5ed09a-9848-4f2c-b2ef-34deb62164fb  2014-11-04 09:10:03.0   \n",
       "2     d3871da6-8012-4dc4-b508-c91f2c10c297  2014-10-10 12:02:50.0   \n",
       "3     0d9b5583-8053-4b67-adfe-8c29eb12efed  2014-10-10 15:23:53.0   \n",
       "4     ec68e0af-b0f2-42c7-b6f8-d41061c083ff  2014-10-10 15:22:26.0   \n",
       "...                                    ...                    ...   \n",
       "7818  7732bad8-e800-49f3-8751-e7604e3fb5a3  2014-10-07 21:43:00.0   \n",
       "7819  cc3a6bd4-d64f-4cbe-b947-c36c3851b487  2014-10-13 15:38:28.0   \n",
       "7820  6e5b4380-66d2-4f2a-8f89-d2794598997d  2014-10-13 15:40:49.0   \n",
       "7821  28caf371-6d1d-4e06-aaf1-e660966ac7a1  2014-10-07 21:30:31.0   \n",
       "7822  90dddef6-23ef-4df3-b454-8fd3d0e8cade  2014-10-08 00:05:05.0   \n",
       "\n",
       "                ts_reply_at         ts_accepted_at          ts_booking_at  \\\n",
       "0     2014-10-04 16:26:28.0  2014-10-04 16:26:28.0  2014-10-04 16:26:28.0   \n",
       "1     2014-11-04 09:45:50.0  2014-11-04 09:45:50.0  2014-11-04 12:20:46.0   \n",
       "2     2014-10-10 15:07:01.0                    NaN                    NaN   \n",
       "3                       NaN                    NaN                    NaN   \n",
       "4     2014-10-10 15:24:26.0  2014-10-10 15:24:26.0  2014-10-10 15:52:42.0   \n",
       "...                     ...                    ...                    ...   \n",
       "7818  2014-10-08 08:19:33.0  2014-10-08 08:19:33.0                    NaN   \n",
       "7819  2014-10-13 15:44:56.0                    NaN                    NaN   \n",
       "7820  2014-10-13 15:42:46.0                    NaN                    NaN   \n",
       "7821  2014-10-08 19:04:43.0                    NaN                    NaN   \n",
       "7822  2014-10-12 20:58:12.0                    NaN                    NaN   \n",
       "\n",
       "      ds_checkin ds_checkout  n_guests  n_messages  \n",
       "0     2014-10-13  2014-10-15         2          13  \n",
       "1     2014-11-27  2014-11-30         1          10  \n",
       "2     2014-10-17  2014-10-19         2           3  \n",
       "3     2014-10-17  2014-10-19         2           2  \n",
       "4     2014-10-17  2014-10-19         2          14  \n",
       "...          ...         ...       ...         ...  \n",
       "7818  2014-10-17  2014-10-20         2           5  \n",
       "7819  2014-10-17  2014-10-20         2           5  \n",
       "7820  2014-10-17  2014-10-20         2           3  \n",
       "7821  2014-10-17  2014-10-20         2           2  \n",
       "7822  2014-11-11  2014-11-18         2           2  \n",
       "\n",
       "[7823 rows x 11 columns]"
      ]
     },
     "metadata": {},
     "output_type": "display_data"
    }
   ],
   "source": [
    "display(contacts)"
   ]
  },
  {
   "cell_type": "code",
   "execution_count": 88,
   "id": "acbf028b",
   "metadata": {},
   "outputs": [
    {
     "data": {
      "text/html": [
       "<div>\n",
       "<style scoped>\n",
       "    .dataframe tbody tr th:only-of-type {\n",
       "        vertical-align: middle;\n",
       "    }\n",
       "\n",
       "    .dataframe tbody tr th {\n",
       "        vertical-align: top;\n",
       "    }\n",
       "\n",
       "    .dataframe thead th {\n",
       "        text-align: right;\n",
       "    }\n",
       "</style>\n",
       "<table border=\"1\" class=\"dataframe\">\n",
       "  <thead>\n",
       "    <tr style=\"text-align: right;\">\n",
       "      <th></th>\n",
       "      <th>ds</th>\n",
       "      <th>id_user</th>\n",
       "      <th>ds_checkin</th>\n",
       "      <th>ds_checkout</th>\n",
       "      <th>n_searches</th>\n",
       "      <th>n_nights</th>\n",
       "      <th>n_guests_min</th>\n",
       "      <th>n_guests_max</th>\n",
       "      <th>origin_country</th>\n",
       "      <th>filter_price_min</th>\n",
       "      <th>filter_price_max</th>\n",
       "      <th>filter_room_types</th>\n",
       "      <th>filter_neighborhoods</th>\n",
       "    </tr>\n",
       "  </thead>\n",
       "  <tbody>\n",
       "    <tr>\n",
       "      <th>0</th>\n",
       "      <td>2014-10-01</td>\n",
       "      <td>0000af0a-6f26-4233-9832-27efbfb36148</td>\n",
       "      <td>2014-10-09</td>\n",
       "      <td>2014-10-12</td>\n",
       "      <td>16</td>\n",
       "      <td>3.0</td>\n",
       "      <td>2</td>\n",
       "      <td>2</td>\n",
       "      <td>IE</td>\n",
       "      <td>0.0</td>\n",
       "      <td>6.700000e+01</td>\n",
       "      <td>,Entire home/apt,Entire home/apt,Private room,...</td>\n",
       "      <td>NaN</td>\n",
       "    </tr>\n",
       "    <tr>\n",
       "      <th>1</th>\n",
       "      <td>2014-10-01</td>\n",
       "      <td>0000af0a-6f26-4233-9832-27efbfb36148</td>\n",
       "      <td>2014-10-09</td>\n",
       "      <td>2014-10-19</td>\n",
       "      <td>3</td>\n",
       "      <td>10.0</td>\n",
       "      <td>1</td>\n",
       "      <td>2</td>\n",
       "      <td>IE</td>\n",
       "      <td>0.0</td>\n",
       "      <td>6.700000e+01</td>\n",
       "      <td>NaN</td>\n",
       "      <td>NaN</td>\n",
       "    </tr>\n",
       "    <tr>\n",
       "      <th>2</th>\n",
       "      <td>2014-10-01</td>\n",
       "      <td>000cd9d3-e05b-4016-9e09-34a6f8ba2fc5</td>\n",
       "      <td>NaN</td>\n",
       "      <td>NaN</td>\n",
       "      <td>1</td>\n",
       "      <td>NaN</td>\n",
       "      <td>1</td>\n",
       "      <td>1</td>\n",
       "      <td>GB</td>\n",
       "      <td>NaN</td>\n",
       "      <td>NaN</td>\n",
       "      <td>NaN</td>\n",
       "      <td>NaN</td>\n",
       "    </tr>\n",
       "    <tr>\n",
       "      <th>3</th>\n",
       "      <td>2014-10-01</td>\n",
       "      <td>000cd9d3-e05b-4016-9e09-34a6f8ba2fc5</td>\n",
       "      <td>2014-11-08</td>\n",
       "      <td>2014-11-10</td>\n",
       "      <td>11</td>\n",
       "      <td>2.0</td>\n",
       "      <td>1</td>\n",
       "      <td>2</td>\n",
       "      <td>GB</td>\n",
       "      <td>NaN</td>\n",
       "      <td>NaN</td>\n",
       "      <td>,Entire home/apt</td>\n",
       "      <td>NaN</td>\n",
       "    </tr>\n",
       "    <tr>\n",
       "      <th>4</th>\n",
       "      <td>2014-10-01</td>\n",
       "      <td>001c04f0-5a94-4ee0-bf5d-3591265256de</td>\n",
       "      <td>NaN</td>\n",
       "      <td>NaN</td>\n",
       "      <td>1</td>\n",
       "      <td>NaN</td>\n",
       "      <td>1</td>\n",
       "      <td>1</td>\n",
       "      <td>IE</td>\n",
       "      <td>NaN</td>\n",
       "      <td>NaN</td>\n",
       "      <td>NaN</td>\n",
       "      <td>NaN</td>\n",
       "    </tr>\n",
       "    <tr>\n",
       "      <th>...</th>\n",
       "      <td>...</td>\n",
       "      <td>...</td>\n",
       "      <td>...</td>\n",
       "      <td>...</td>\n",
       "      <td>...</td>\n",
       "      <td>...</td>\n",
       "      <td>...</td>\n",
       "      <td>...</td>\n",
       "      <td>...</td>\n",
       "      <td>...</td>\n",
       "      <td>...</td>\n",
       "      <td>...</td>\n",
       "      <td>...</td>\n",
       "    </tr>\n",
       "    <tr>\n",
       "      <th>35732</th>\n",
       "      <td>2014-10-14</td>\n",
       "      <td>ff3c92ed-ebea-4691-a808-cc6fb73f2f55</td>\n",
       "      <td>NaN</td>\n",
       "      <td>NaN</td>\n",
       "      <td>3</td>\n",
       "      <td>NaN</td>\n",
       "      <td>2</td>\n",
       "      <td>2</td>\n",
       "      <td>US</td>\n",
       "      <td>0.0</td>\n",
       "      <td>1.000000e+02</td>\n",
       "      <td>Entire home/apt</td>\n",
       "      <td>NaN</td>\n",
       "    </tr>\n",
       "    <tr>\n",
       "      <th>35733</th>\n",
       "      <td>2014-10-14</td>\n",
       "      <td>ff61875b-1d27-4ee4-bd4e-36671d3bfed4</td>\n",
       "      <td>NaN</td>\n",
       "      <td>NaN</td>\n",
       "      <td>2</td>\n",
       "      <td>NaN</td>\n",
       "      <td>1</td>\n",
       "      <td>1</td>\n",
       "      <td>US</td>\n",
       "      <td>NaN</td>\n",
       "      <td>NaN</td>\n",
       "      <td>NaN</td>\n",
       "      <td>NaN</td>\n",
       "    </tr>\n",
       "    <tr>\n",
       "      <th>35734</th>\n",
       "      <td>2014-10-14</td>\n",
       "      <td>ff946a14-777b-4597-91b2-3277921214cd</td>\n",
       "      <td>2014-11-03</td>\n",
       "      <td>2014-11-06</td>\n",
       "      <td>10</td>\n",
       "      <td>3.0</td>\n",
       "      <td>1</td>\n",
       "      <td>3</td>\n",
       "      <td>IL</td>\n",
       "      <td>NaN</td>\n",
       "      <td>NaN</td>\n",
       "      <td>Entire home/apt</td>\n",
       "      <td>NaN</td>\n",
       "    </tr>\n",
       "    <tr>\n",
       "      <th>35735</th>\n",
       "      <td>2014-10-14</td>\n",
       "      <td>ffc681d4-3668-4448-af38-6f73bc9fb89d</td>\n",
       "      <td>NaN</td>\n",
       "      <td>NaN</td>\n",
       "      <td>5</td>\n",
       "      <td>NaN</td>\n",
       "      <td>1</td>\n",
       "      <td>1</td>\n",
       "      <td>IE</td>\n",
       "      <td>0.0</td>\n",
       "      <td>4.850000e+02</td>\n",
       "      <td>NaN</td>\n",
       "      <td>NaN</td>\n",
       "    </tr>\n",
       "    <tr>\n",
       "      <th>35736</th>\n",
       "      <td>2014-10-14</td>\n",
       "      <td>ffe0f0c3-f8e3-418e-82e5-3a29fdd183bd</td>\n",
       "      <td>NaN</td>\n",
       "      <td>NaN</td>\n",
       "      <td>3</td>\n",
       "      <td>NaN</td>\n",
       "      <td>1</td>\n",
       "      <td>1</td>\n",
       "      <td>US</td>\n",
       "      <td>480.0</td>\n",
       "      <td>1.073742e+09</td>\n",
       "      <td>,Entire home/apt</td>\n",
       "      <td>NaN</td>\n",
       "    </tr>\n",
       "  </tbody>\n",
       "</table>\n",
       "<p>35737 rows × 13 columns</p>\n",
       "</div>"
      ],
      "text/plain": [
       "               ds                               id_user  ds_checkin  \\\n",
       "0      2014-10-01  0000af0a-6f26-4233-9832-27efbfb36148  2014-10-09   \n",
       "1      2014-10-01  0000af0a-6f26-4233-9832-27efbfb36148  2014-10-09   \n",
       "2      2014-10-01  000cd9d3-e05b-4016-9e09-34a6f8ba2fc5         NaN   \n",
       "3      2014-10-01  000cd9d3-e05b-4016-9e09-34a6f8ba2fc5  2014-11-08   \n",
       "4      2014-10-01  001c04f0-5a94-4ee0-bf5d-3591265256de         NaN   \n",
       "...           ...                                   ...         ...   \n",
       "35732  2014-10-14  ff3c92ed-ebea-4691-a808-cc6fb73f2f55         NaN   \n",
       "35733  2014-10-14  ff61875b-1d27-4ee4-bd4e-36671d3bfed4         NaN   \n",
       "35734  2014-10-14  ff946a14-777b-4597-91b2-3277921214cd  2014-11-03   \n",
       "35735  2014-10-14  ffc681d4-3668-4448-af38-6f73bc9fb89d         NaN   \n",
       "35736  2014-10-14  ffe0f0c3-f8e3-418e-82e5-3a29fdd183bd         NaN   \n",
       "\n",
       "      ds_checkout  n_searches  n_nights  n_guests_min  n_guests_max  \\\n",
       "0      2014-10-12          16       3.0             2             2   \n",
       "1      2014-10-19           3      10.0             1             2   \n",
       "2             NaN           1       NaN             1             1   \n",
       "3      2014-11-10          11       2.0             1             2   \n",
       "4             NaN           1       NaN             1             1   \n",
       "...           ...         ...       ...           ...           ...   \n",
       "35732         NaN           3       NaN             2             2   \n",
       "35733         NaN           2       NaN             1             1   \n",
       "35734  2014-11-06          10       3.0             1             3   \n",
       "35735         NaN           5       NaN             1             1   \n",
       "35736         NaN           3       NaN             1             1   \n",
       "\n",
       "      origin_country  filter_price_min  filter_price_max  \\\n",
       "0                 IE               0.0      6.700000e+01   \n",
       "1                 IE               0.0      6.700000e+01   \n",
       "2                 GB               NaN               NaN   \n",
       "3                 GB               NaN               NaN   \n",
       "4                 IE               NaN               NaN   \n",
       "...              ...               ...               ...   \n",
       "35732             US               0.0      1.000000e+02   \n",
       "35733             US               NaN               NaN   \n",
       "35734             IL               NaN               NaN   \n",
       "35735             IE               0.0      4.850000e+02   \n",
       "35736             US             480.0      1.073742e+09   \n",
       "\n",
       "                                       filter_room_types filter_neighborhoods  \n",
       "0      ,Entire home/apt,Entire home/apt,Private room,...                  NaN  \n",
       "1                                                    NaN                  NaN  \n",
       "2                                                    NaN                  NaN  \n",
       "3                                       ,Entire home/apt                  NaN  \n",
       "4                                                    NaN                  NaN  \n",
       "...                                                  ...                  ...  \n",
       "35732                                    Entire home/apt                  NaN  \n",
       "35733                                                NaN                  NaN  \n",
       "35734                                    Entire home/apt                  NaN  \n",
       "35735                                                NaN                  NaN  \n",
       "35736                                   ,Entire home/apt                  NaN  \n",
       "\n",
       "[35737 rows x 13 columns]"
      ]
     },
     "metadata": {},
     "output_type": "display_data"
    }
   ],
   "source": [
    "display(searches)"
   ]
  },
  {
   "cell_type": "code",
   "execution_count": 89,
   "id": "d761d201",
   "metadata": {},
   "outputs": [
    {
     "name": "stdout",
     "output_type": "stream",
     "text": [
      "contacts\n",
      "id_guest          0.000000\n",
      "id_host           0.000000\n",
      "id_listing        0.000000\n",
      "ts_contact_at     0.000000\n",
      "ts_reply_at       0.077208\n",
      "ts_accepted_at    0.536367\n",
      "ts_booking_at     0.722101\n",
      "ds_checkin        0.000000\n",
      "ds_checkout       0.000000\n",
      "n_guests          0.000000\n",
      "n_messages        0.000000\n",
      "dtype: float64 \n",
      "\n",
      "searches\n",
      "ds                      0.000000\n",
      "id_user                 0.000000\n",
      "ds_checkin              0.331561\n",
      "ds_checkout             0.331561\n",
      "n_searches              0.000000\n",
      "n_nights                0.331561\n",
      "n_guests_min            0.000000\n",
      "n_guests_max            0.000000\n",
      "origin_country          0.000000\n",
      "filter_price_min        0.627221\n",
      "filter_price_max        0.627221\n",
      "filter_room_types       0.546940\n",
      "filter_neighborhoods    0.962336\n",
      "dtype: float64 \n",
      "\n"
     ]
    }
   ],
   "source": [
    "#find % of null values in dataset\n",
    "print('contacts')\n",
    "print(contacts.isna().sum()/len(contacts), '\\n')\n",
    "print('searches')\n",
    "print(searches.isna().sum()/len(searches), '\\n')"
   ]
  },
  {
   "cell_type": "markdown",
   "id": "e94bec81",
   "metadata": {},
   "source": [
    "the neighborhood column has 96.2% of null value, so the column is not helpful to estimate the demand of bookings.\n",
    "\n"
   ]
  },
  {
   "cell_type": "markdown",
   "id": "b9bc7f39",
   "metadata": {},
   "source": [
    "## Searches dataset"
   ]
  },
  {
   "cell_type": "code",
   "execution_count": 90,
   "id": "d781311c",
   "metadata": {},
   "outputs": [],
   "source": [
    "# drop the column neighborhood\n",
    "searches=searches.drop(columns=['filter_neighborhoods'])"
   ]
  },
  {
   "cell_type": "code",
   "execution_count": 91,
   "id": "6b62fd0c",
   "metadata": {},
   "outputs": [],
   "source": [
    "# Manipulation ò searches dataset\n",
    "\n",
    "# convert data column to dataframe data type for easier analysis\n",
    "\n",
    "searches['ds'] = pd.to_datetime(searches['ds'])\n",
    "searches['ds_checkin']=pd.to_datetime(searches['ds_checkin'])\n",
    "searches['ds_checkout']=pd.to_datetime(searches['ds_checkout'])\n",
    "\n",
    "# measure how soon they want the room\n",
    "searches['length_preparation']= searches['ds_checkin']-searches['ds']"
   ]
  },
  {
   "cell_type": "code",
   "execution_count": 92,
   "id": "1cca22e8",
   "metadata": {},
   "outputs": [
    {
     "data": {
      "text/html": [
       "<div>\n",
       "<style scoped>\n",
       "    .dataframe tbody tr th:only-of-type {\n",
       "        vertical-align: middle;\n",
       "    }\n",
       "\n",
       "    .dataframe tbody tr th {\n",
       "        vertical-align: top;\n",
       "    }\n",
       "\n",
       "    .dataframe thead th {\n",
       "        text-align: right;\n",
       "    }\n",
       "</style>\n",
       "<table border=\"1\" class=\"dataframe\">\n",
       "  <thead>\n",
       "    <tr style=\"text-align: right;\">\n",
       "      <th></th>\n",
       "      <th>n_searches</th>\n",
       "      <th>n_nights</th>\n",
       "      <th>n_guests_min</th>\n",
       "      <th>n_guests_max</th>\n",
       "      <th>filter_price_min</th>\n",
       "      <th>filter_price_max</th>\n",
       "      <th>length_preparation</th>\n",
       "    </tr>\n",
       "  </thead>\n",
       "  <tbody>\n",
       "    <tr>\n",
       "      <th>count</th>\n",
       "      <td>35737.000000</td>\n",
       "      <td>23888.000000</td>\n",
       "      <td>35737.000000</td>\n",
       "      <td>35737.000000</td>\n",
       "      <td>13322.000000</td>\n",
       "      <td>1.332200e+04</td>\n",
       "      <td>23888</td>\n",
       "    </tr>\n",
       "    <tr>\n",
       "      <th>mean</th>\n",
       "      <td>9.206565</td>\n",
       "      <td>7.672765</td>\n",
       "      <td>1.742955</td>\n",
       "      <td>2.105857</td>\n",
       "      <td>8.470200</td>\n",
       "      <td>9.019063e+07</td>\n",
       "      <td>51 days 08:11:53.730743469</td>\n",
       "    </tr>\n",
       "    <tr>\n",
       "      <th>std</th>\n",
       "      <td>17.348746</td>\n",
       "      <td>21.557614</td>\n",
       "      <td>1.460440</td>\n",
       "      <td>1.817358</td>\n",
       "      <td>53.987679</td>\n",
       "      <td>2.978482e+08</td>\n",
       "      <td>65 days 18:56:19.491940518</td>\n",
       "    </tr>\n",
       "    <tr>\n",
       "      <th>min</th>\n",
       "      <td>1.000000</td>\n",
       "      <td>0.000000</td>\n",
       "      <td>1.000000</td>\n",
       "      <td>1.000000</td>\n",
       "      <td>0.000000</td>\n",
       "      <td>9.000000e+00</td>\n",
       "      <td>-1 days +00:00:00</td>\n",
       "    </tr>\n",
       "    <tr>\n",
       "      <th>25%</th>\n",
       "      <td>1.000000</td>\n",
       "      <td>2.000000</td>\n",
       "      <td>1.000000</td>\n",
       "      <td>1.000000</td>\n",
       "      <td>0.000000</td>\n",
       "      <td>8.600000e+01</td>\n",
       "      <td>10 days 00:00:00</td>\n",
       "    </tr>\n",
       "    <tr>\n",
       "      <th>50%</th>\n",
       "      <td>4.000000</td>\n",
       "      <td>3.000000</td>\n",
       "      <td>1.000000</td>\n",
       "      <td>2.000000</td>\n",
       "      <td>0.000000</td>\n",
       "      <td>1.390000e+02</td>\n",
       "      <td>26 days 00:00:00</td>\n",
       "    </tr>\n",
       "    <tr>\n",
       "      <th>75%</th>\n",
       "      <td>10.000000</td>\n",
       "      <td>5.000000</td>\n",
       "      <td>2.000000</td>\n",
       "      <td>2.000000</td>\n",
       "      <td>0.000000</td>\n",
       "      <td>3.010000e+02</td>\n",
       "      <td>67 days 00:00:00</td>\n",
       "    </tr>\n",
       "    <tr>\n",
       "      <th>max</th>\n",
       "      <td>448.000000</td>\n",
       "      <td>399.000000</td>\n",
       "      <td>16.000000</td>\n",
       "      <td>16.000000</td>\n",
       "      <td>1250.000000</td>\n",
       "      <td>1.073742e+09</td>\n",
       "      <td>604 days 00:00:00</td>\n",
       "    </tr>\n",
       "  </tbody>\n",
       "</table>\n",
       "</div>"
      ],
      "text/plain": [
       "         n_searches      n_nights  n_guests_min  n_guests_max  \\\n",
       "count  35737.000000  23888.000000  35737.000000  35737.000000   \n",
       "mean       9.206565      7.672765      1.742955      2.105857   \n",
       "std       17.348746     21.557614      1.460440      1.817358   \n",
       "min        1.000000      0.000000      1.000000      1.000000   \n",
       "25%        1.000000      2.000000      1.000000      1.000000   \n",
       "50%        4.000000      3.000000      1.000000      2.000000   \n",
       "75%       10.000000      5.000000      2.000000      2.000000   \n",
       "max      448.000000    399.000000     16.000000     16.000000   \n",
       "\n",
       "       filter_price_min  filter_price_max          length_preparation  \n",
       "count      13322.000000      1.332200e+04                       23888  \n",
       "mean           8.470200      9.019063e+07  51 days 08:11:53.730743469  \n",
       "std           53.987679      2.978482e+08  65 days 18:56:19.491940518  \n",
       "min            0.000000      9.000000e+00           -1 days +00:00:00  \n",
       "25%            0.000000      8.600000e+01            10 days 00:00:00  \n",
       "50%            0.000000      1.390000e+02            26 days 00:00:00  \n",
       "75%            0.000000      3.010000e+02            67 days 00:00:00  \n",
       "max         1250.000000      1.073742e+09           604 days 00:00:00  "
      ]
     },
     "metadata": {},
     "output_type": "display_data"
    }
   ],
   "source": [
    "# Describe searches dataset\n",
    "display(searches.describe())\n"
   ]
  },
  {
   "cell_type": "code",
   "execution_count": 93,
   "id": "ec6eaabe",
   "metadata": {},
   "outputs": [
    {
     "data": {
      "text/plain": [
       "n_searches           7.509258\n",
       "n_nights             9.942364\n",
       "n_guests_min         3.583798\n",
       "n_guests_max         3.148548\n",
       "filter_price_min    11.087745\n",
       "filter_price_max     2.999833\n",
       "dtype: float64"
      ]
     },
     "metadata": {},
     "output_type": "display_data"
    }
   ],
   "source": [
    "# calculate skewness in searches dataset\n",
    "display(searches.skew(axis=0, numeric_only=True, skipna=True))"
   ]
  },
  {
   "cell_type": "markdown",
   "id": "2fb0fa3d",
   "metadata": {},
   "source": [
    "All numeric columns have a Fisher-Pearson coefficient value greater than 1. This results in a positive skewness. So we can transform the variables in the log-form. But in this study, I still keep the original values.\n"
   ]
  },
  {
   "cell_type": "code",
   "execution_count": 94,
   "id": "e987073e",
   "metadata": {},
   "outputs": [],
   "source": [
    "\n",
    "#searches['filter_price_min']=searches['filter_price_min'].apply(np.log)\n",
    "#searches['filter_price_max']=searches['filter_price_max'].apply(np.log)"
   ]
  },
  {
   "cell_type": "markdown",
   "id": "01aa6a88",
   "metadata": {},
   "source": [
    "# Distributions"
   ]
  },
  {
   "cell_type": "code",
   "execution_count": 95,
   "id": "3541b97e",
   "metadata": {},
   "outputs": [
    {
     "data": {
      "image/png": "[encoded data removed]",
      "text/plain": [
       "<Figure size 360x360 with 1 Axes>"
      ]
     },
     "metadata": {
      "needs_background": "light"
     },
     "output_type": "display_data"
    },
    {
     "data": {
      "image/png": "[encoded data removed]",
      "text/plain": [
       "<Figure size 360x360 with 1 Axes>"
      ]
     },
     "metadata": {
      "needs_background": "light"
     },
     "output_type": "display_data"
    }
   ],
   "source": [
    "# distribution plot of n_guests_min and n_guests_max\n",
    "sns.displot(searches, x='n_guests_min', color='brown')\n",
    "sns.displot(searches, x='n_guests_max', color='blue')\n",
    "plt.show()"
   ]
  },
  {
   "cell_type": "code",
   "execution_count": 96,
   "id": "83641e44",
   "metadata": {},
   "outputs": [
    {
     "data": {
      "text/plain": [
       "count    1.332200e+04\n",
       "mean     9.019063e+07\n",
       "std      2.978482e+08\n",
       "min      9.000000e+00\n",
       "25%      8.600000e+01\n",
       "50%      1.390000e+02\n",
       "75%      3.010000e+02\n",
       "max      1.073742e+09\n",
       "Name: filter_price_max, dtype: float64"
      ]
     },
     "metadata": {},
     "output_type": "display_data"
    }
   ],
   "source": [
    "display(searches['filter_price_max'].describe())"
   ]
  },
  {
   "cell_type": "code",
   "execution_count": 97,
   "id": "db1a3825",
   "metadata": {},
   "outputs": [
    {
     "data": {
      "text/plain": [
       "[[None,\n",
       "  None,\n",
       "  None,\n",
       "  None,\n",
       "  None,\n",
       "  None,\n",
       "  None,\n",
       "  None,\n",
       "  None,\n",
       "  None,\n",
       "  None,\n",
       "  None,\n",
       "  None,\n",
       "  None]]"
      ]
     },
     "execution_count": 97,
     "metadata": {},
     "output_type": "execute_result"
    },
    {
     "data": {
      "image/png": "[encoded data removed]",
      "text/plain": [
       "<Figure size 360x360 with 1 Axes>"
      ]
     },
     "metadata": {
      "needs_background": "light"
     },
     "output_type": "display_data"
    }
   ],
   "source": [
    "# When were searches conducted\n",
    "ax=sns.displot(searches, x='ds', color='brown')\n",
    "[plt.setp(ax.get_xticklabels(), rotation=90) for ax in ax.axes.flat]\n"
   ]
  },
  {
   "cell_type": "code",
   "execution_count": 98,
   "id": "f9ca5366",
   "metadata": {},
   "outputs": [
    {
     "name": "stdout",
     "output_type": "stream",
     "text": [
      "5.333407952542183 %\n"
     ]
    }
   ],
   "source": [
    "#Percentage of dataset with a filter_price_max above 600\n",
    "\n",
    "print(len(searches[searches['filter_price_max'] >= 600])/len(searches['filter_price_max'])*100, '%')\n"
   ]
  },
  {
   "cell_type": "markdown",
   "id": "e92eabd7",
   "metadata": {},
   "source": [
    "Noticed all date searches were between October 1st to October 14th. No major variation in when search was conducted between these dates\n"
   ]
  },
  {
   "cell_type": "code",
   "execution_count": 99,
   "id": "ff3e97d9",
   "metadata": {},
   "outputs": [
    {
     "name": "stdout",
     "output_type": "stream",
     "text": [
      "5.333407952542183 %\n"
     ]
    },
    {
     "data": {
      "text/plain": [
       "<seaborn.axisgrid.FacetGrid at 0x21c62298ee0>"
      ]
     },
     "execution_count": 99,
     "metadata": {},
     "output_type": "execute_result"
    },
    {
     "data": {
      "image/png": "[encoded data removed]",
      "text/plain": [
       "<Figure size 360x360 with 1 Axes>"
      ]
     },
     "metadata": {
      "needs_background": "light"
     },
     "output_type": "display_data"
    }
   ],
   "source": [
    "# Distribution of price \n",
    "#Percentage of dataset with a filter_price_max above 600\n",
    "\n",
    "print(len(searches[searches['filter_price_max'] >= 600])/len(searches['filter_price_max'])*100, '%')\n",
    "\n",
    "# Keep the observations with price below 600, remove price is larger than 600\n",
    "\n",
    "searches_maxprice_removed = searches[searches['filter_price_max'] < 600]\n",
    "\n",
    "# Distribution plot of price after being filtered\n",
    "\n",
    "sns.displot(x=searches_maxprice_removed['filter_price_max'], color='blue')\n"
   ]
  },
  {
   "cell_type": "code",
   "execution_count": 100,
   "id": "bb0ff94b",
   "metadata": {},
   "outputs": [
    {
     "name": "stdout",
     "output_type": "stream",
     "text": [
      "6.810868287768979 % \n",
      "\n"
     ]
    },
    {
     "data": {
      "text/plain": [
       "<seaborn.axisgrid.FacetGrid at 0x21c6708e0a0>"
      ]
     },
     "execution_count": 100,
     "metadata": {},
     "output_type": "execute_result"
    },
    {
     "data": {
      "image/png": "[encoded data removed]",
      "text/plain": [
       "<Figure size 360x360 with 1 Axes>"
      ]
     },
     "metadata": {
      "needs_background": "light"
     },
     "output_type": "display_data"
    }
   ],
   "source": [
    "# distribution of length preparation\n",
    "\n",
    "preparation = searches['length_preparation'] / np.timedelta64(1, 'D')\n",
    "print(len(preparation[preparation > 150])/len(preparation)*100, '% \\n')\n",
    "\n",
    "# keep values less than 150 days\n",
    "\n",
    "preparation=preparation[preparation<150]\n",
    "\n",
    "#distribution plot\n",
    "sns.displot(x=preparation, color='pink')"
   ]
  },
  {
   "cell_type": "markdown",
   "id": "cc487fd2",
   "metadata": {},
   "source": [
    " We can conclude that visitors tend to find an Airbnb within 1 month before their travel"
   ]
  },
  {
   "cell_type": "code",
   "execution_count": 101,
   "id": "a547b5ad",
   "metadata": {},
   "outputs": [
    {
     "name": "stdout",
     "output_type": "stream",
     "text": [
      "5.879060917256624 %\n",
      "\n"
     ]
    },
    {
     "data": {
      "text/plain": [
       "<seaborn.axisgrid.FacetGrid at 0x21c6a9fe910>"
      ]
     },
     "execution_count": 101,
     "metadata": {},
     "output_type": "execute_result"
    },
    {
     "data": {
      "image/png": "[encoded data removed]",
      "text/plain": [
       "<Figure size 360x360 with 1 Axes>"
      ]
     },
     "metadata": {
      "needs_background": "light"
     },
     "output_type": "display_data"
    }
   ],
   "source": [
    "#Distribution of n-nights\n",
    "\n",
    "#Pecentage of data with n-nights\n",
    "\n",
    "print(len(searches[searches['n_nights']>=15])/len(searches['n_nights'])*100, '%\\n')\n",
    "\n",
    "# keep values below 15 days\n",
    "searches_nights_removed=searches[searches['n_nights']<15]\n",
    "\n",
    "# distribution\n",
    "sns.displot(searches_nights_removed, x='n_nights', color='green')\n",
    "      \n"
   ]
  },
  {
   "cell_type": "code",
   "execution_count": 102,
   "id": "cf0c2e09",
   "metadata": {},
   "outputs": [
    {
     "data": {
      "text/plain": [
       "<seaborn.axisgrid.FacetGrid at 0x21c6a706cd0>"
      ]
     },
     "execution_count": 102,
     "metadata": {},
     "output_type": "execute_result"
    },
    {
     "data": {
      "image/png": "[encoded data removed]",
      "text/plain": [
       "<Figure size 360x360 with 1 Axes>"
      ]
     },
     "metadata": {
      "needs_background": "light"
     },
     "output_type": "display_data"
    }
   ],
   "source": [
    "# Distribution of check-in month\n",
    "\n",
    "checkin_month=pd.DatetimeIndex(searches['ds_checkin']).month\n",
    "\n",
    "# visualization\n",
    "sns.displot(x=checkin_month, color='yellow')"
   ]
  },
  {
   "cell_type": "markdown",
   "id": "f36cae97",
   "metadata": {},
   "source": [
    "The most popular months for Airbnb rents are from October to December\n"
   ]
  },
  {
   "cell_type": "code",
   "execution_count": 103,
   "id": "afb0b58f",
   "metadata": {},
   "outputs": [
    {
     "name": "stdout",
     "output_type": "stream",
     "text": [
      "Entire home/apt    14490\n",
      "                   10258\n",
      "Private room        7188\n",
      "Shared room         1228\n",
      "Name: filter_room_types, dtype: int64\n"
     ]
    }
   ],
   "source": [
    "# Check the most common types of room\n",
    "\n",
    "room = searches['filter_room_types'].str.split(',')\n",
    "\n",
    "words = room.explode()\n",
    "\n",
    "# Count the occurrences of each word\n",
    "word_counts = words.value_counts()\n",
    "\n",
    "# Get the most common words\n",
    "most_common_words = word_counts.head(n=10)\n",
    "\n",
    "print(most_common_words)\n",
    "\n"
   ]
  },
  {
   "cell_type": "markdown",
   "id": "41042dd7",
   "metadata": {},
   "source": [
    "Entire home or apt is the most common types of room that renters look for"
   ]
  },
  {
   "cell_type": "code",
   "execution_count": 104,
   "id": "da3dc224",
   "metadata": {},
   "outputs": [
    {
     "name": "stdout",
     "output_type": "stream",
     "text": [
      "                count\n",
      "origin_country       \n",
      "IE               6608\n",
      "US               5811\n",
      "GB               4832\n",
      "FR               3444\n",
      "IT               2333\n",
      "DE               2170\n",
      "ES               1759\n",
      "CA               1085\n",
      "AU                962\n",
      "NL                843\n"
     ]
    }
   ],
   "source": [
    "##Find top 10 countries where searches originate from\n",
    "\n",
    "search_country=searches.groupby('origin_country').agg({'origin_country':'count'})\n",
    "search_country.columns=['count']\n",
    "search_country=search_country.sort_values('count', ascending=False)\n",
    "print(search_country.head(n=10))\n"
   ]
  },
  {
   "cell_type": "markdown",
   "id": "9fb2d1ae",
   "metadata": {},
   "source": [
    "## Contacts dataset\n"
   ]
  },
  {
   "cell_type": "code",
   "execution_count": 118,
   "id": "2ce0ba41",
   "metadata": {},
   "outputs": [
    {
     "data": {
      "text/plain": [
       "id_guest                  object\n",
       "id_host                   object\n",
       "id_listing                object\n",
       "ts_contact_at     datetime64[ns]\n",
       "ts_reply_at       datetime64[ns]\n",
       "ts_accepted_at    datetime64[ns]\n",
       "ts_booking_at     datetime64[ns]\n",
       "ds_checkin        datetime64[ns]\n",
       "ds_checkout       datetime64[ns]\n",
       "n_guests                   int64\n",
       "n_messages                 int64\n",
       "length_stay              float64\n",
       "length_reply             float64\n",
       "accepted                    bool\n",
       "dtype: object"
      ]
     },
     "metadata": {},
     "output_type": "display_data"
    },
    {
     "data": {
      "text/html": [
       "<div>\n",
       "<style scoped>\n",
       "    .dataframe tbody tr th:only-of-type {\n",
       "        vertical-align: middle;\n",
       "    }\n",
       "\n",
       "    .dataframe tbody tr th {\n",
       "        vertical-align: top;\n",
       "    }\n",
       "\n",
       "    .dataframe thead th {\n",
       "        text-align: right;\n",
       "    }\n",
       "</style>\n",
       "<table border=\"1\" class=\"dataframe\">\n",
       "  <thead>\n",
       "    <tr style=\"text-align: right;\">\n",
       "      <th></th>\n",
       "      <th>n_guests</th>\n",
       "      <th>n_messages</th>\n",
       "      <th>length_stay</th>\n",
       "      <th>length_reply</th>\n",
       "    </tr>\n",
       "  </thead>\n",
       "  <tbody>\n",
       "    <tr>\n",
       "      <th>count</th>\n",
       "      <td>7823.000000</td>\n",
       "      <td>7823.000000</td>\n",
       "      <td>7823.000000</td>\n",
       "      <td>7219.000000</td>\n",
       "    </tr>\n",
       "    <tr>\n",
       "      <th>mean</th>\n",
       "      <td>2.422600</td>\n",
       "      <td>6.319954</td>\n",
       "      <td>5.809408</td>\n",
       "      <td>0.402269</td>\n",
       "    </tr>\n",
       "    <tr>\n",
       "      <th>std</th>\n",
       "      <td>1.617347</td>\n",
       "      <td>6.472827</td>\n",
       "      <td>14.989866</td>\n",
       "      <td>1.470047</td>\n",
       "    </tr>\n",
       "    <tr>\n",
       "      <th>min</th>\n",
       "      <td>1.000000</td>\n",
       "      <td>1.000000</td>\n",
       "      <td>1.000000</td>\n",
       "      <td>0.000000</td>\n",
       "    </tr>\n",
       "    <tr>\n",
       "      <th>25%</th>\n",
       "      <td>1.000000</td>\n",
       "      <td>2.000000</td>\n",
       "      <td>2.000000</td>\n",
       "      <td>0.010648</td>\n",
       "    </tr>\n",
       "    <tr>\n",
       "      <th>50%</th>\n",
       "      <td>2.000000</td>\n",
       "      <td>4.000000</td>\n",
       "      <td>3.000000</td>\n",
       "      <td>0.071227</td>\n",
       "    </tr>\n",
       "    <tr>\n",
       "      <th>75%</th>\n",
       "      <td>3.000000</td>\n",
       "      <td>8.000000</td>\n",
       "      <td>5.000000</td>\n",
       "      <td>0.377801</td>\n",
       "    </tr>\n",
       "    <tr>\n",
       "      <th>max</th>\n",
       "      <td>16.000000</td>\n",
       "      <td>102.000000</td>\n",
       "      <td>334.000000</td>\n",
       "      <td>57.241794</td>\n",
       "    </tr>\n",
       "  </tbody>\n",
       "</table>\n",
       "</div>"
      ],
      "text/plain": [
       "          n_guests   n_messages  length_stay  length_reply\n",
       "count  7823.000000  7823.000000  7823.000000   7219.000000\n",
       "mean      2.422600     6.319954     5.809408      0.402269\n",
       "std       1.617347     6.472827    14.989866      1.470047\n",
       "min       1.000000     1.000000     1.000000      0.000000\n",
       "25%       1.000000     2.000000     2.000000      0.010648\n",
       "50%       2.000000     4.000000     3.000000      0.071227\n",
       "75%       3.000000     8.000000     5.000000      0.377801\n",
       "max      16.000000   102.000000   334.000000     57.241794"
      ]
     },
     "metadata": {},
     "output_type": "display_data"
    }
   ],
   "source": [
    "#Convert date columns to datetime data type \n",
    "contacts['ts_contact_at'] = pd.to_datetime(contacts['ts_contact_at'])\n",
    "contacts['ts_reply_at'] = pd.to_datetime(contacts['ts_reply_at'])\n",
    "contacts['ts_accepted_at'] = pd.to_datetime(contacts['ts_accepted_at'])\n",
    "contacts['ts_booking_at'] = pd.to_datetime(contacts['ts_booking_at'])\n",
    "contacts['ds_checkin'] = pd.to_datetime(contacts['ds_checkin'])\n",
    "contacts['ds_checkout'] = pd.to_datetime(contacts['ds_checkout'])\n",
    "\n",
    "contacts['length_stay'] = contacts['ds_checkout'] - contacts['ds_checkin']\n",
    "contacts['length_stay'] =contacts['length_stay']/np.timedelta64(1, 'D')\n",
    "\n",
    "contacts['length_reply']=contacts['ts_reply_at']-contacts['ts_contact_at']\n",
    "contacts['length_reply']=contacts['length_reply']/ np.timedelta64(1, 'D')\n",
    "\n",
    "\n",
    "\n",
    "# creat accepted columns\n",
    "\n",
    "contacts['accepted'] = contacts['ts_accepted_at'].apply(lambda x: False if pd.isna(x) else True)\n",
    "\n",
    "#Understand dataset\n",
    "display(contacts.dtypes)\n",
    "display(contacts.describe())"
   ]
  },
  {
   "cell_type": "code",
   "execution_count": 119,
   "id": "1a368452",
   "metadata": {},
   "outputs": [
    {
     "data": {
      "text/plain": [
       "n_guests         2.441468\n",
       "n_messages       3.696440\n",
       "length_stay     13.765022\n",
       "length_reply    17.282051\n",
       "accepted         0.145883\n",
       "dtype: float64"
      ]
     },
     "metadata": {},
     "output_type": "display_data"
    }
   ],
   "source": [
    "#Calculate skewness in contacts dataset\n",
    "\n",
    "display(contacts.skew(axis = 0, numeric_only = True, skipna = True))"
   ]
  },
  {
   "cell_type": "code",
   "execution_count": 120,
   "id": "ad661b8b",
   "metadata": {},
   "outputs": [
    {
     "name": "stdout",
     "output_type": "stream",
     "text": [
      "2.2497763006519236 %\n",
      "\n"
     ]
    },
    {
     "data": {
      "image/png": "[encoded data removed]",
      "text/plain": [
       "<Figure size 421.25x360 with 1 Axes>"
      ]
     },
     "metadata": {
      "needs_background": "light"
     },
     "output_type": "display_data"
    }
   ],
   "source": [
    "#Number of guest stayed\n",
    "\n",
    "print (len(contacts[contacts['n_guests']>=7])/len(contacts['n_guests'])*100, '%\\n')\n",
    "\n",
    "contact_guest=contacts[contacts['n_guests']<7]\n",
    "sns.displot(contact_guest, x='n_guests', hue='accepted', multiple='dodge')\n",
    "plt.show()\n"
   ]
  },
  {
   "cell_type": "markdown",
   "id": "aaab6432",
   "metadata": {},
   "source": [
    "2 guests is the most popular option to book, but 1 guest is the most popularly searched option. This leads to the question on there is a lack of supply of viable single guest rooms."
   ]
  },
  {
   "cell_type": "code",
   "execution_count": 121,
   "id": "4fdd1040",
   "metadata": {},
   "outputs": [
    {
     "data": {
      "text/plain": [
       "0.5993934381031155"
      ]
     },
     "execution_count": 121,
     "metadata": {},
     "output_type": "execute_result"
    }
   ],
   "source": [
    "# The rate from accepting to booking\n",
    "\n",
    "contacts['ts_booking_at'].count()/contacts['ts_accepted_at'].count()"
   ]
  },
  {
   "cell_type": "code",
   "execution_count": 122,
   "id": "3cf737e8",
   "metadata": {},
   "outputs": [],
   "source": [
    "#Merge datasets for more analysis\n",
    "\n",
    "merged_datasets = contacts.merge(searches, left_on='id_guest', right_on='id_user')"
   ]
  },
  {
   "cell_type": "code",
   "execution_count": 125,
   "id": "7d7ce146",
   "metadata": {},
   "outputs": [
    {
     "name": "stdout",
     "output_type": "stream",
     "text": [
      "       length_stay  length_reply\n",
      "0              2.0      0.000000\n",
      "1              3.0      0.024850\n",
      "2              2.0      0.127905\n",
      "3              2.0      0.127905\n",
      "4              2.0           NaN\n",
      "...            ...           ...\n",
      "28531          3.0      0.898750\n",
      "28532          7.0      4.870220\n",
      "28533          7.0      4.870220\n",
      "28534          7.0      4.870220\n",
      "28535          7.0      4.870220\n",
      "\n",
      "[28536 rows x 2 columns]\n",
      "length_stay        0\n",
      "length_reply    2261\n",
      "dtype: int64\n"
     ]
    }
   ],
   "source": [
    "length=merged_datasets.loc[:,['length_stay', 'length_reply']]\n",
    "print(length)\n",
    "m1=length.isna().sum()\n",
    "print(m1)\n",
    "\n",
    "\n"
   ]
  },
  {
   "cell_type": "markdown",
   "id": "d638e34f",
   "metadata": {},
   "source": [
    "## Prediction"
   ]
  },
  {
   "cell_type": "code",
   "execution_count": 126,
   "id": "80f1df07",
   "metadata": {},
   "outputs": [],
   "source": [
    "import xgboost as xgb\n",
    "from sklearn.model_selection import train_test_split\n",
    "from sklearn import preprocessing\n",
    "\n",
    "xgb_cl = xgb.XGBClassifier()\n",
    "le = preprocessing.LabelEncoder()"
   ]
  },
  {
   "cell_type": "code",
   "execution_count": 143,
   "id": "0d62a64a",
   "metadata": {},
   "outputs": [
    {
     "data": {
      "text/html": [
       "<div>\n",
       "<style scoped>\n",
       "    .dataframe tbody tr th:only-of-type {\n",
       "        vertical-align: middle;\n",
       "    }\n",
       "\n",
       "    .dataframe tbody tr th {\n",
       "        vertical-align: top;\n",
       "    }\n",
       "\n",
       "    .dataframe thead th {\n",
       "        text-align: right;\n",
       "    }\n",
       "</style>\n",
       "<table border=\"1\" class=\"dataframe\">\n",
       "  <thead>\n",
       "    <tr style=\"text-align: right;\">\n",
       "      <th></th>\n",
       "      <th>n_guests</th>\n",
       "      <th>n_messages</th>\n",
       "      <th>length_stay</th>\n",
       "      <th>accepted</th>\n",
       "      <th>n_nights</th>\n",
       "    </tr>\n",
       "  </thead>\n",
       "  <tbody>\n",
       "    <tr>\n",
       "      <th>0</th>\n",
       "      <td>2</td>\n",
       "      <td>13</td>\n",
       "      <td>2.0</td>\n",
       "      <td>True</td>\n",
       "      <td>2.0</td>\n",
       "    </tr>\n",
       "    <tr>\n",
       "      <th>1</th>\n",
       "      <td>1</td>\n",
       "      <td>10</td>\n",
       "      <td>3.0</td>\n",
       "      <td>True</td>\n",
       "      <td>3.0</td>\n",
       "    </tr>\n",
       "    <tr>\n",
       "      <th>2</th>\n",
       "      <td>2</td>\n",
       "      <td>3</td>\n",
       "      <td>2.0</td>\n",
       "      <td>False</td>\n",
       "      <td>2.0</td>\n",
       "    </tr>\n",
       "    <tr>\n",
       "      <th>3</th>\n",
       "      <td>2</td>\n",
       "      <td>3</td>\n",
       "      <td>2.0</td>\n",
       "      <td>False</td>\n",
       "      <td>2.0</td>\n",
       "    </tr>\n",
       "    <tr>\n",
       "      <th>4</th>\n",
       "      <td>2</td>\n",
       "      <td>2</td>\n",
       "      <td>2.0</td>\n",
       "      <td>False</td>\n",
       "      <td>2.0</td>\n",
       "    </tr>\n",
       "    <tr>\n",
       "      <th>...</th>\n",
       "      <td>...</td>\n",
       "      <td>...</td>\n",
       "      <td>...</td>\n",
       "      <td>...</td>\n",
       "      <td>...</td>\n",
       "    </tr>\n",
       "    <tr>\n",
       "      <th>28531</th>\n",
       "      <td>2</td>\n",
       "      <td>2</td>\n",
       "      <td>3.0</td>\n",
       "      <td>False</td>\n",
       "      <td>3.0</td>\n",
       "    </tr>\n",
       "    <tr>\n",
       "      <th>28532</th>\n",
       "      <td>2</td>\n",
       "      <td>2</td>\n",
       "      <td>7.0</td>\n",
       "      <td>False</td>\n",
       "      <td>30.0</td>\n",
       "    </tr>\n",
       "    <tr>\n",
       "      <th>28533</th>\n",
       "      <td>2</td>\n",
       "      <td>2</td>\n",
       "      <td>7.0</td>\n",
       "      <td>False</td>\n",
       "      <td>6.0</td>\n",
       "    </tr>\n",
       "    <tr>\n",
       "      <th>28534</th>\n",
       "      <td>2</td>\n",
       "      <td>2</td>\n",
       "      <td>7.0</td>\n",
       "      <td>False</td>\n",
       "      <td>6.0</td>\n",
       "    </tr>\n",
       "    <tr>\n",
       "      <th>28535</th>\n",
       "      <td>2</td>\n",
       "      <td>2</td>\n",
       "      <td>7.0</td>\n",
       "      <td>False</td>\n",
       "      <td>7.0</td>\n",
       "    </tr>\n",
       "  </tbody>\n",
       "</table>\n",
       "<p>28536 rows × 5 columns</p>\n",
       "</div>"
      ],
      "text/plain": [
       "       n_guests  n_messages  length_stay  accepted  n_nights\n",
       "0             2          13          2.0      True       2.0\n",
       "1             1          10          3.0      True       3.0\n",
       "2             2           3          2.0     False       2.0\n",
       "3             2           3          2.0     False       2.0\n",
       "4             2           2          2.0     False       2.0\n",
       "...         ...         ...          ...       ...       ...\n",
       "28531         2           2          3.0     False       3.0\n",
       "28532         2           2          7.0     False      30.0\n",
       "28533         2           2          7.0     False       6.0\n",
       "28534         2           2          7.0     False       6.0\n",
       "28535         2           2          7.0     False       7.0\n",
       "\n",
       "[28536 rows x 5 columns]"
      ]
     },
     "metadata": {},
     "output_type": "display_data"
    }
   ],
   "source": [
    "predict_data=merged_datasets[['n_guests', 'n_messages', 'length_stay', 'accepted', 'n_nights']]\n",
    "display(predict_data)\n",
    "\n",
    "predict_data=predict_data.dropna()\n"
   ]
  },
  {
   "cell_type": "code",
   "execution_count": 144,
   "id": "2fd49a46",
   "metadata": {},
   "outputs": [],
   "source": [
    "dep_var=predict_data['accepted']\n",
    "#dep_var=dep_var.apply(le.fit_transform)\n",
    "X = predict_data.drop(columns=['accepted'])\n",
    "y = predict_data['accepted']\n",
    "X_train, X_test, y_train, y_test = train_test_split(\n",
    "    X, y, stratify=y, random_state=711, test_size=0.2\n",
    ")"
   ]
  },
  {
   "cell_type": "code",
   "execution_count": 145,
   "id": "7f795b79",
   "metadata": {},
   "outputs": [
    {
     "data": {
      "text/plain": [
       "0.8102108768035516"
      ]
     },
     "execution_count": 145,
     "metadata": {},
     "output_type": "execute_result"
    }
   ],
   "source": [
    "from sklearn.metrics import accuracy_score\n",
    "\n",
    "params = {}\n",
    "# Init classifier\n",
    "xgb_cl = xgb.XGBClassifier(**params)\n",
    "\n",
    "# Fit\n",
    "xgb_cl.fit(X_train, y_train)\n",
    "\n",
    "# Predict\n",
    "preds = xgb_cl.predict(X_test)\n",
    "accuracy_score(y_test, preds) # before standardize"
   ]
  },
  {
   "cell_type": "code",
   "execution_count": 146,
   "id": "7769593e",
   "metadata": {},
   "outputs": [
    {
     "name": "stdout",
     "output_type": "stream",
     "text": [
      "              precision    recall  f1-score   support\n",
      "\n",
      "       False       0.79      0.91      0.85      2582\n",
      "        True       0.84      0.68      0.75      1923\n",
      "\n",
      "    accuracy                           0.81      4505\n",
      "   macro avg       0.82      0.79      0.80      4505\n",
      "weighted avg       0.81      0.81      0.81      4505\n",
      "\n"
     ]
    }
   ],
   "source": [
    "from sklearn.metrics import classification_report\n",
    "\n",
    "print(classification_report(y_test, preds))"
   ]
  },
  {
   "cell_type": "code",
   "execution_count": 147,
   "id": "d0df3d82",
   "metadata": {},
   "outputs": [
    {
     "data": {
      "text/plain": [
       "0.6357380688124307"
      ]
     },
     "execution_count": 147,
     "metadata": {},
     "output_type": "execute_result"
    }
   ],
   "source": [
    "from sklearn.naive_bayes import ComplementNB\n",
    "clf = ComplementNB()\n",
    "clf.fit(X_train, y_train)\n",
    "clf_preds = clf.predict(X_test)\n",
    "accuracy_score(y_test, clf_preds)"
   ]
  },
  {
   "cell_type": "code",
   "execution_count": 148,
   "id": "ba27577b",
   "metadata": {},
   "outputs": [
    {
     "data": {
      "text/plain": [
       "0.8019977802441731"
      ]
     },
     "execution_count": 148,
     "metadata": {},
     "output_type": "execute_result"
    }
   ],
   "source": [
    "from sklearn.ensemble import RandomForestClassifier\n",
    "rfr = RandomForestClassifier(max_depth=7, random_state=0)\n",
    "rfr.fit(X_train, y_train)\n",
    "rfr_preds = rfr.predict(X_test)\n",
    "accuracy_score(y_test, rfr_preds)"
   ]
  },
  {
   "cell_type": "code",
   "execution_count": 149,
   "id": "2d1649d6",
   "metadata": {},
   "outputs": [
    {
     "data": {
      "text/plain": [
       "0.7857935627081021"
      ]
     },
     "execution_count": 149,
     "metadata": {},
     "output_type": "execute_result"
    }
   ],
   "source": [
    "from sklearn.linear_model import LogisticRegression\n",
    "logreg = LogisticRegression(C=1e5)\n",
    "logreg.fit(X_train, y_train)\n",
    "lg_preds = logreg.predict(X_test)\n",
    "accuracy_score(y_test, lg_preds)"
   ]
  },
  {
   "cell_type": "code",
   "execution_count": null,
   "id": "717e6262",
   "metadata": {},
   "outputs": [],
   "source": []
  }
 ],
 "metadata": {
  "kernelspec": {
   "display_name": "Python 3 (ipykernel)",
   "language": "python",
   "name": "python3"
  },
  "language_info": {
   "codemirror_mode": {
    "name": "ipython",
    "version": 3
   },
   "file_extension": ".py",
   "mimetype": "text/x-python",
   "name": "python",
   "nbconvert_exporter": "python",
   "pygments_lexer": "ipython3",
   "version": "3.9.12"
  }
 },
 "nbformat": 4,
 "nbformat_minor": 5
}
